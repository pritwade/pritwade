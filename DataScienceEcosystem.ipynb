{
 "cells": [
  {
   "cell_type": "markdown",
   "id": "e4677c9f-eff3-43d4-9f5d-d9b8f217c118",
   "metadata": {},
   "source": [
    "# DATA SCIENCE TOOLS AND ECOSYSTEM"
   ]
  },
  {
   "cell_type": "markdown",
   "id": "09e70446-1308-40e7-a7c0-3610a8fb44e8",
   "metadata": {},
   "source": [
    "## AUTHOR  \n",
    "Prit Wade"
   ]
  },
  {
   "attachments": {},
   "cell_type": "markdown",
   "id": "202a73ed-2063-4f58-a022-4cac260532b2",
   "metadata": {},
   "source": [
    "In this notebook, Data Science Tools and Ecosystem are summarized."
   ]
  },
  {
   "attachments": {},
   "cell_type": "markdown",
   "id": "8eb0f3ba-8819-49db-8f77-5524537d6ea0",
   "metadata": {},
   "source": [
    "**OBJECTIVES:**\n",
    "- List popular languages for Data Science\n",
    "- Provide examples of arithmetic expressions in Python\n",
    "- Introduce development environment tools for Data Science\n",
    "- Create tables using Markdown\n",
    "- Explain basic Markdown formatting techniques"
   ]
  },
  {
   "cell_type": "markdown",
   "id": "227ff420-6f4e-4c4d-8f76-cbfe840f7513",
   "metadata": {},
   "source": [
    "Some of the popular languages that Data Scientists use are:\n",
    "1. Python\n",
    "2. R\n",
    "3. Julia"
   ]
  },
  {
   "cell_type": "markdown",
   "id": "c2bb6243-e096-4e2b-b11e-fd72c6779974",
   "metadata": {},
   "source": [
    "Some of the commonly used libraries used by Data Scientists include:\n",
    "1. Numpy\n",
    "2. Pandas\n",
    "3. TensorFlow"
   ]
  },
  {
   "cell_type": "markdown",
   "id": "ffd8b9f8-dd9e-4194-8293-dea75c38cb56",
   "metadata": {},
   "source": [
    "| Data Science Tools|\n",
    "| ------------------|\n",
    "| Apache Spark      |\n",
    "| R Studio          |\n",
    "| Jupyter Notebook  |\n"
   ]
  },
  {
   "cell_type": "markdown",
   "id": "bd1a20b3-d6a1-4c24-980e-6b04c88856dd",
   "metadata": {},
   "source": [
    "### Below are a few examples of evaluating arithmetic expressions in Python.\r\n",
    "#### Addition\n",
    "a=2  \n",
    "b=3  \n",
    "c=a+b  \n",
    "print(c)  \n",
    "Result - 5  \n",
    "\n",
    "\n",
    "#### Multiplication  \n",
    "a=2  \n",
    "b=3  \n",
    "c=a*b  \n",
    "print(c)  \n",
    "Result - 6.\r\n"
   ]
  },
  {
   "cell_type": "code",
   "execution_count": 20,
   "id": "c90e48d8-8850-438c-b720-99664a152fd1",
   "metadata": {},
   "outputs": [
    {
     "name": "stdout",
     "output_type": "stream",
     "text": [
      "17\n"
     ]
    }
   ],
   "source": [
    "a=(3*4)+5\n",
    "print(a)"
   ]
  },
  {
   "cell_type": "code",
   "execution_count": 22,
   "id": "d0bcd0a3-525e-48c8-8c03-4a0282f90c44",
   "metadata": {},
   "outputs": [
    {
     "name": "stdout",
     "output_type": "stream",
     "text": [
      "3.3333333333333335 hours\n"
     ]
    }
   ],
   "source": [
    "#converting minutes into hours\n",
    "a= 200\n",
    "b=a/60\n",
    "print(b,\"hours\")"
   ]
  },
  {
   "cell_type": "code",
   "execution_count": null,
   "id": "066f5202-8122-485d-8111-ec751877fd9c",
   "metadata": {},
   "outputs": [],
   "source": []
  }
 ],
 "metadata": {
  "kernelspec": {
   "display_name": "Python 3 (ipykernel)",
   "language": "python",
   "name": "python3"
  },
  "language_info": {
   "codemirror_mode": {
    "name": "ipython",
    "version": 3
   },
   "file_extension": ".py",
   "mimetype": "text/x-python",
   "name": "python",
   "nbconvert_exporter": "python",
   "pygments_lexer": "ipython3",
   "version": "3.12.4"
  }
 },
 "nbformat": 4,
 "nbformat_minor": 5
}
